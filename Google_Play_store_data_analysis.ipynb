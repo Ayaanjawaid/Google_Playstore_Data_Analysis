{
  "cells": [
    {
      "cell_type": "code",
      "execution_count": 139,
      "metadata": {
        "colab": {
          "base_uri": "https://localhost:8080/"
        },
        "id": "vN7e5HnU3Enk",
        "outputId": "96861bcd-bd7d-4d07-8c70-306d4d7260c2"
      },
      "outputs": [
        {
          "name": "stderr",
          "output_type": "stream",
          "text": [
            "[nltk_data] Downloading package vader_lexicon to\n",
            "[nltk_data]     C:\\Users\\ayaan\\AppData\\Roaming\\nltk_data...\n",
            "[nltk_data]   Package vader_lexicon is already up-to-date!\n"
          ]
        },
        {
          "data": {
            "text/plain": [
              "True"
            ]
          },
          "execution_count": 139,
          "metadata": {},
          "output_type": "execute_result"
        }
      ],
      "source": [
        "import pandas as pd\n",
        "import numpy as np\n",
        "import plotly.express as px\n",
        "import  plotly.io as pio\n",
        "from sklearn.model_selection import train_test_split\n",
        "from sklearn.ensemble import RandomForestRegressor\n",
        "from sklearn.metrics import mean_squared_error, r2_score\n",
        "from nltk.sentiment import SentimentIntensityAnalyzer\n",
        "import nltk\n",
        "import webbrowser\n",
        "import os\n",
        "import warnings\n",
        "warnings.filterwarnings('ignore')\n",
        "nltk.download('vader_lexicon')"
      ]
    },
    {
      "cell_type": "markdown",
      "metadata": {
        "id": "xa3-naQO6uEB"
      },
      "source": [
        "**LOADING THE DATASETS**"
      ]
    },
    {
      "cell_type": "code",
      "execution_count": 140,
      "metadata": {
        "id": "d7ZKobRP3M5b"
      },
      "outputs": [],
      "source": [
        "apps_df = pd.read_csv('Play Store Data.csv')"
      ]
    },
    {
      "cell_type": "code",
      "execution_count": 141,
      "metadata": {
        "id": "BtRkmOOx3M1v"
      },
      "outputs": [],
      "source": [
        "reviews_df = pd.read_csv('User Reviews.csv')"
      ]
    },
    {
      "cell_type": "markdown",
      "metadata": {
        "id": "m9goHRx48uid"
      },
      "source": [
        "**VIEWING THE DATA**"
      ]
    },
    {
      "cell_type": "code",
      "execution_count": 142,
      "metadata": {
        "colab": {
          "base_uri": "https://localhost:8080/",
          "height": 206
        },
        "id": "ndZuVbDK3Myj",
        "outputId": "69263eef-35e7-4790-d6fe-872ce6367c2c"
      },
      "outputs": [
        {
          "data": {
            "text/html": [
              "<div>\n",
              "<style scoped>\n",
              "    .dataframe tbody tr th:only-of-type {\n",
              "        vertical-align: middle;\n",
              "    }\n",
              "\n",
              "    .dataframe tbody tr th {\n",
              "        vertical-align: top;\n",
              "    }\n",
              "\n",
              "    .dataframe thead th {\n",
              "        text-align: right;\n",
              "    }\n",
              "</style>\n",
              "<table border=\"1\" class=\"dataframe\">\n",
              "  <thead>\n",
              "    <tr style=\"text-align: right;\">\n",
              "      <th></th>\n",
              "      <th>App</th>\n",
              "      <th>Category</th>\n",
              "      <th>Rating</th>\n",
              "      <th>Reviews</th>\n",
              "      <th>Size</th>\n",
              "      <th>Installs</th>\n",
              "      <th>Type</th>\n",
              "      <th>Price</th>\n",
              "      <th>Content Rating</th>\n",
              "      <th>Genres</th>\n",
              "      <th>Last Updated</th>\n",
              "      <th>Current Ver</th>\n",
              "      <th>Android Ver</th>\n",
              "    </tr>\n",
              "  </thead>\n",
              "  <tbody>\n",
              "    <tr>\n",
              "      <th>0</th>\n",
              "      <td>Photo Editor &amp; Candy Camera &amp; Grid &amp; ScrapBook</td>\n",
              "      <td>ART_AND_DESIGN</td>\n",
              "      <td>4.1</td>\n",
              "      <td>159</td>\n",
              "      <td>19M</td>\n",
              "      <td>10,000+</td>\n",
              "      <td>Free</td>\n",
              "      <td>0</td>\n",
              "      <td>Everyone</td>\n",
              "      <td>Art &amp; Design</td>\n",
              "      <td>January 7, 2018</td>\n",
              "      <td>1.0.0</td>\n",
              "      <td>4.0.3 and up</td>\n",
              "    </tr>\n",
              "    <tr>\n",
              "      <th>1</th>\n",
              "      <td>Coloring book moana</td>\n",
              "      <td>ART_AND_DESIGN</td>\n",
              "      <td>3.9</td>\n",
              "      <td>967</td>\n",
              "      <td>14M</td>\n",
              "      <td>500,000+</td>\n",
              "      <td>Free</td>\n",
              "      <td>0</td>\n",
              "      <td>Everyone</td>\n",
              "      <td>Art &amp; Design;Pretend Play</td>\n",
              "      <td>January 15, 2018</td>\n",
              "      <td>2.0.0</td>\n",
              "      <td>4.0.3 and up</td>\n",
              "    </tr>\n",
              "    <tr>\n",
              "      <th>2</th>\n",
              "      <td>U Launcher Lite – FREE Live Cool Themes, Hide ...</td>\n",
              "      <td>ART_AND_DESIGN</td>\n",
              "      <td>4.7</td>\n",
              "      <td>87510</td>\n",
              "      <td>8.7M</td>\n",
              "      <td>5,000,000+</td>\n",
              "      <td>Free</td>\n",
              "      <td>0</td>\n",
              "      <td>Everyone</td>\n",
              "      <td>Art &amp; Design</td>\n",
              "      <td>August 1, 2018</td>\n",
              "      <td>1.2.4</td>\n",
              "      <td>4.0.3 and up</td>\n",
              "    </tr>\n",
              "    <tr>\n",
              "      <th>3</th>\n",
              "      <td>Sketch - Draw &amp; Paint</td>\n",
              "      <td>ART_AND_DESIGN</td>\n",
              "      <td>4.5</td>\n",
              "      <td>215644</td>\n",
              "      <td>25M</td>\n",
              "      <td>50,000,000+</td>\n",
              "      <td>Free</td>\n",
              "      <td>0</td>\n",
              "      <td>Teen</td>\n",
              "      <td>Art &amp; Design</td>\n",
              "      <td>June 8, 2018</td>\n",
              "      <td>Varies with device</td>\n",
              "      <td>4.2 and up</td>\n",
              "    </tr>\n",
              "    <tr>\n",
              "      <th>4</th>\n",
              "      <td>Pixel Draw - Number Art Coloring Book</td>\n",
              "      <td>ART_AND_DESIGN</td>\n",
              "      <td>4.3</td>\n",
              "      <td>967</td>\n",
              "      <td>2.8M</td>\n",
              "      <td>100,000+</td>\n",
              "      <td>Free</td>\n",
              "      <td>0</td>\n",
              "      <td>Everyone</td>\n",
              "      <td>Art &amp; Design;Creativity</td>\n",
              "      <td>June 20, 2018</td>\n",
              "      <td>1.1</td>\n",
              "      <td>4.4 and up</td>\n",
              "    </tr>\n",
              "  </tbody>\n",
              "</table>\n",
              "</div>"
            ],
            "text/plain": [
              "                                                 App        Category  Rating  \\\n",
              "0     Photo Editor & Candy Camera & Grid & ScrapBook  ART_AND_DESIGN     4.1   \n",
              "1                                Coloring book moana  ART_AND_DESIGN     3.9   \n",
              "2  U Launcher Lite – FREE Live Cool Themes, Hide ...  ART_AND_DESIGN     4.7   \n",
              "3                              Sketch - Draw & Paint  ART_AND_DESIGN     4.5   \n",
              "4              Pixel Draw - Number Art Coloring Book  ART_AND_DESIGN     4.3   \n",
              "\n",
              "  Reviews  Size     Installs  Type Price Content Rating  \\\n",
              "0     159   19M      10,000+  Free     0       Everyone   \n",
              "1     967   14M     500,000+  Free     0       Everyone   \n",
              "2   87510  8.7M   5,000,000+  Free     0       Everyone   \n",
              "3  215644   25M  50,000,000+  Free     0           Teen   \n",
              "4     967  2.8M     100,000+  Free     0       Everyone   \n",
              "\n",
              "                      Genres      Last Updated         Current Ver  \\\n",
              "0               Art & Design   January 7, 2018               1.0.0   \n",
              "1  Art & Design;Pretend Play  January 15, 2018               2.0.0   \n",
              "2               Art & Design    August 1, 2018               1.2.4   \n",
              "3               Art & Design      June 8, 2018  Varies with device   \n",
              "4    Art & Design;Creativity     June 20, 2018                 1.1   \n",
              "\n",
              "    Android Ver  \n",
              "0  4.0.3 and up  \n",
              "1  4.0.3 and up  \n",
              "2  4.0.3 and up  \n",
              "3    4.2 and up  \n",
              "4    4.4 and up  "
            ]
          },
          "execution_count": 142,
          "metadata": {},
          "output_type": "execute_result"
        }
      ],
      "source": [
        "apps_df.head()"
      ]
    },
    {
      "cell_type": "code",
      "execution_count": 143,
      "metadata": {
        "colab": {
          "base_uri": "https://localhost:8080/",
          "height": 206
        },
        "id": "ATHS_ziME9bf",
        "outputId": "8b7c7b9a-cef7-4afe-f14c-665e289fa11c"
      },
      "outputs": [
        {
          "data": {
            "text/html": [
              "<div>\n",
              "<style scoped>\n",
              "    .dataframe tbody tr th:only-of-type {\n",
              "        vertical-align: middle;\n",
              "    }\n",
              "\n",
              "    .dataframe tbody tr th {\n",
              "        vertical-align: top;\n",
              "    }\n",
              "\n",
              "    .dataframe thead th {\n",
              "        text-align: right;\n",
              "    }\n",
              "</style>\n",
              "<table border=\"1\" class=\"dataframe\">\n",
              "  <thead>\n",
              "    <tr style=\"text-align: right;\">\n",
              "      <th></th>\n",
              "      <th>App</th>\n",
              "      <th>Translated_Review</th>\n",
              "      <th>Sentiment</th>\n",
              "      <th>Sentiment_Polarity</th>\n",
              "      <th>Sentiment_Subjectivity</th>\n",
              "    </tr>\n",
              "  </thead>\n",
              "  <tbody>\n",
              "    <tr>\n",
              "      <th>0</th>\n",
              "      <td>10 Best Foods for You</td>\n",
              "      <td>I like eat delicious food. That's I'm cooking ...</td>\n",
              "      <td>Positive</td>\n",
              "      <td>1.00</td>\n",
              "      <td>0.533333</td>\n",
              "    </tr>\n",
              "    <tr>\n",
              "      <th>1</th>\n",
              "      <td>10 Best Foods for You</td>\n",
              "      <td>This help eating healthy exercise regular basis</td>\n",
              "      <td>Positive</td>\n",
              "      <td>0.25</td>\n",
              "      <td>0.288462</td>\n",
              "    </tr>\n",
              "    <tr>\n",
              "      <th>2</th>\n",
              "      <td>10 Best Foods for You</td>\n",
              "      <td>NaN</td>\n",
              "      <td>NaN</td>\n",
              "      <td>NaN</td>\n",
              "      <td>NaN</td>\n",
              "    </tr>\n",
              "    <tr>\n",
              "      <th>3</th>\n",
              "      <td>10 Best Foods for You</td>\n",
              "      <td>Works great especially going grocery store</td>\n",
              "      <td>Positive</td>\n",
              "      <td>0.40</td>\n",
              "      <td>0.875000</td>\n",
              "    </tr>\n",
              "    <tr>\n",
              "      <th>4</th>\n",
              "      <td>10 Best Foods for You</td>\n",
              "      <td>Best idea us</td>\n",
              "      <td>Positive</td>\n",
              "      <td>1.00</td>\n",
              "      <td>0.300000</td>\n",
              "    </tr>\n",
              "  </tbody>\n",
              "</table>\n",
              "</div>"
            ],
            "text/plain": [
              "                     App                                  Translated_Review  \\\n",
              "0  10 Best Foods for You  I like eat delicious food. That's I'm cooking ...   \n",
              "1  10 Best Foods for You    This help eating healthy exercise regular basis   \n",
              "2  10 Best Foods for You                                                NaN   \n",
              "3  10 Best Foods for You         Works great especially going grocery store   \n",
              "4  10 Best Foods for You                                       Best idea us   \n",
              "\n",
              "  Sentiment  Sentiment_Polarity  Sentiment_Subjectivity  \n",
              "0  Positive                1.00                0.533333  \n",
              "1  Positive                0.25                0.288462  \n",
              "2       NaN                 NaN                     NaN  \n",
              "3  Positive                0.40                0.875000  \n",
              "4  Positive                1.00                0.300000  "
            ]
          },
          "execution_count": 143,
          "metadata": {},
          "output_type": "execute_result"
        }
      ],
      "source": [
        "reviews_df.head()"
      ]
    },
    {
      "cell_type": "markdown",
      "metadata": {
        "id": "H_MvvsbK8511"
      },
      "source": [
        "**DATA CLEANING**"
      ]
    },
    {
      "cell_type": "code",
      "execution_count": 144,
      "metadata": {
        "colab": {
          "base_uri": "https://localhost:8080/"
        },
        "id": "_WfwX1FbFFtu",
        "outputId": "23f74b00-c87f-4cfd-a4eb-89e3e6ddfad4"
      },
      "outputs": [],
      "source": [
        "apps_df = apps_df.dropna(subset=['Rating'])\n",
        "for column in apps_df.columns:\n",
        "    apps_df[column].fillna(apps_df[column].mode()[0], inplace=True)\n",
        "apps_df.drop_duplicates(inplace=True)\n",
        "apps_df = apps_df[apps_df['Rating'] <= 5]\n",
        "reviews_df.dropna(subset=['Translated_Review'], inplace=True)"
      ]
    },
    {
      "cell_type": "markdown",
      "metadata": {
        "id": "TRMsZp8mFxbC"
      },
      "source": [
        "**DATA TRANSFORMATION**"
      ]
    },
    {
      "cell_type": "markdown",
      "metadata": {
        "id": "rMCSHJIaBTss"
      },
      "source": [
        "\n",
        "**-> CONVERTING THE INSTALLS COLUMN TO NUMERIC STATE BY REMOVING COMMAS AND SYMBOLS**\n",
        "\n",
        "**-> CONVERTING THE PRICE COLUMN TO NUMERIC STATE BY REMOVING $ SYMBOL**\n"
      ]
    },
    {
      "cell_type": "code",
      "execution_count": 145,
      "metadata": {
        "id": "PdKiPC6IFfF9"
      },
      "outputs": [],
      "source": [
        "apps_df['Reviews'] = apps_df['Reviews'].astype(int)\n",
        "apps_df['Installs'] = apps_df['Installs'].str.replace(',', '').str.replace('+', '').astype(int)\n",
        "apps_df['Price'] = apps_df['Price'].str.replace('$', '').astype(float)"
      ]
    },
    {
      "cell_type": "markdown",
      "metadata": {
        "id": "HRHUf1ViDKlH"
      },
      "source": [
        " **COMBINING THE TWO DATASET**"
      ]
    },
    {
      "cell_type": "code",
      "execution_count": 146,
      "metadata": {
        "id": "E3GOBA3IEgNO"
      },
      "outputs": [],
      "source": [
        "merged_df = pd.merge(apps_df, reviews_df, on='App', how='inner')"
      ]
    },
    {
      "cell_type": "code",
      "execution_count": 147,
      "metadata": {
        "colab": {
          "base_uri": "https://localhost:8080/",
          "height": 310
        },
        "id": "3v9GLwsqF7Ov",
        "outputId": "18f21c85-f438-4841-da17-9dbb7510b810"
      },
      "outputs": [
        {
          "data": {
            "text/html": [
              "<div>\n",
              "<style scoped>\n",
              "    .dataframe tbody tr th:only-of-type {\n",
              "        vertical-align: middle;\n",
              "    }\n",
              "\n",
              "    .dataframe tbody tr th {\n",
              "        vertical-align: top;\n",
              "    }\n",
              "\n",
              "    .dataframe thead th {\n",
              "        text-align: right;\n",
              "    }\n",
              "</style>\n",
              "<table border=\"1\" class=\"dataframe\">\n",
              "  <thead>\n",
              "    <tr style=\"text-align: right;\">\n",
              "      <th></th>\n",
              "      <th>App</th>\n",
              "      <th>Category</th>\n",
              "      <th>Rating</th>\n",
              "      <th>Reviews</th>\n",
              "      <th>Size</th>\n",
              "      <th>Installs</th>\n",
              "      <th>Type</th>\n",
              "      <th>Price</th>\n",
              "      <th>Content Rating</th>\n",
              "      <th>Genres</th>\n",
              "      <th>Last Updated</th>\n",
              "      <th>Current Ver</th>\n",
              "      <th>Android Ver</th>\n",
              "      <th>Translated_Review</th>\n",
              "      <th>Sentiment</th>\n",
              "      <th>Sentiment_Polarity</th>\n",
              "      <th>Sentiment_Subjectivity</th>\n",
              "    </tr>\n",
              "  </thead>\n",
              "  <tbody>\n",
              "    <tr>\n",
              "      <th>0</th>\n",
              "      <td>Coloring book moana</td>\n",
              "      <td>ART_AND_DESIGN</td>\n",
              "      <td>3.9</td>\n",
              "      <td>967</td>\n",
              "      <td>14M</td>\n",
              "      <td>500000</td>\n",
              "      <td>Free</td>\n",
              "      <td>0.0</td>\n",
              "      <td>Everyone</td>\n",
              "      <td>Art &amp; Design;Pretend Play</td>\n",
              "      <td>January 15, 2018</td>\n",
              "      <td>2.0.0</td>\n",
              "      <td>4.0.3 and up</td>\n",
              "      <td>A kid's excessive ads. The types ads allowed a...</td>\n",
              "      <td>Negative</td>\n",
              "      <td>-0.250</td>\n",
              "      <td>1.000000</td>\n",
              "    </tr>\n",
              "    <tr>\n",
              "      <th>1</th>\n",
              "      <td>Coloring book moana</td>\n",
              "      <td>ART_AND_DESIGN</td>\n",
              "      <td>3.9</td>\n",
              "      <td>967</td>\n",
              "      <td>14M</td>\n",
              "      <td>500000</td>\n",
              "      <td>Free</td>\n",
              "      <td>0.0</td>\n",
              "      <td>Everyone</td>\n",
              "      <td>Art &amp; Design;Pretend Play</td>\n",
              "      <td>January 15, 2018</td>\n",
              "      <td>2.0.0</td>\n",
              "      <td>4.0.3 and up</td>\n",
              "      <td>It bad &gt;:(</td>\n",
              "      <td>Negative</td>\n",
              "      <td>-0.725</td>\n",
              "      <td>0.833333</td>\n",
              "    </tr>\n",
              "    <tr>\n",
              "      <th>2</th>\n",
              "      <td>Coloring book moana</td>\n",
              "      <td>ART_AND_DESIGN</td>\n",
              "      <td>3.9</td>\n",
              "      <td>967</td>\n",
              "      <td>14M</td>\n",
              "      <td>500000</td>\n",
              "      <td>Free</td>\n",
              "      <td>0.0</td>\n",
              "      <td>Everyone</td>\n",
              "      <td>Art &amp; Design;Pretend Play</td>\n",
              "      <td>January 15, 2018</td>\n",
              "      <td>2.0.0</td>\n",
              "      <td>4.0.3 and up</td>\n",
              "      <td>like</td>\n",
              "      <td>Neutral</td>\n",
              "      <td>0.000</td>\n",
              "      <td>0.000000</td>\n",
              "    </tr>\n",
              "    <tr>\n",
              "      <th>3</th>\n",
              "      <td>Coloring book moana</td>\n",
              "      <td>ART_AND_DESIGN</td>\n",
              "      <td>3.9</td>\n",
              "      <td>967</td>\n",
              "      <td>14M</td>\n",
              "      <td>500000</td>\n",
              "      <td>Free</td>\n",
              "      <td>0.0</td>\n",
              "      <td>Everyone</td>\n",
              "      <td>Art &amp; Design;Pretend Play</td>\n",
              "      <td>January 15, 2018</td>\n",
              "      <td>2.0.0</td>\n",
              "      <td>4.0.3 and up</td>\n",
              "      <td>I love colors inspyering</td>\n",
              "      <td>Positive</td>\n",
              "      <td>0.500</td>\n",
              "      <td>0.600000</td>\n",
              "    </tr>\n",
              "    <tr>\n",
              "      <th>4</th>\n",
              "      <td>Coloring book moana</td>\n",
              "      <td>ART_AND_DESIGN</td>\n",
              "      <td>3.9</td>\n",
              "      <td>967</td>\n",
              "      <td>14M</td>\n",
              "      <td>500000</td>\n",
              "      <td>Free</td>\n",
              "      <td>0.0</td>\n",
              "      <td>Everyone</td>\n",
              "      <td>Art &amp; Design;Pretend Play</td>\n",
              "      <td>January 15, 2018</td>\n",
              "      <td>2.0.0</td>\n",
              "      <td>4.0.3 and up</td>\n",
              "      <td>I hate</td>\n",
              "      <td>Negative</td>\n",
              "      <td>-0.800</td>\n",
              "      <td>0.900000</td>\n",
              "    </tr>\n",
              "  </tbody>\n",
              "</table>\n",
              "</div>"
            ],
            "text/plain": [
              "                   App        Category  Rating  Reviews Size  Installs  Type  \\\n",
              "0  Coloring book moana  ART_AND_DESIGN     3.9      967  14M    500000  Free   \n",
              "1  Coloring book moana  ART_AND_DESIGN     3.9      967  14M    500000  Free   \n",
              "2  Coloring book moana  ART_AND_DESIGN     3.9      967  14M    500000  Free   \n",
              "3  Coloring book moana  ART_AND_DESIGN     3.9      967  14M    500000  Free   \n",
              "4  Coloring book moana  ART_AND_DESIGN     3.9      967  14M    500000  Free   \n",
              "\n",
              "   Price Content Rating                     Genres      Last Updated  \\\n",
              "0    0.0       Everyone  Art & Design;Pretend Play  January 15, 2018   \n",
              "1    0.0       Everyone  Art & Design;Pretend Play  January 15, 2018   \n",
              "2    0.0       Everyone  Art & Design;Pretend Play  January 15, 2018   \n",
              "3    0.0       Everyone  Art & Design;Pretend Play  January 15, 2018   \n",
              "4    0.0       Everyone  Art & Design;Pretend Play  January 15, 2018   \n",
              "\n",
              "  Current Ver   Android Ver  \\\n",
              "0       2.0.0  4.0.3 and up   \n",
              "1       2.0.0  4.0.3 and up   \n",
              "2       2.0.0  4.0.3 and up   \n",
              "3       2.0.0  4.0.3 and up   \n",
              "4       2.0.0  4.0.3 and up   \n",
              "\n",
              "                                   Translated_Review Sentiment  \\\n",
              "0  A kid's excessive ads. The types ads allowed a...  Negative   \n",
              "1                                         It bad >:(  Negative   \n",
              "2                                               like   Neutral   \n",
              "3                           I love colors inspyering  Positive   \n",
              "4                                             I hate  Negative   \n",
              "\n",
              "   Sentiment_Polarity  Sentiment_Subjectivity  \n",
              "0              -0.250                1.000000  \n",
              "1              -0.725                0.833333  \n",
              "2               0.000                0.000000  \n",
              "3               0.500                0.600000  \n",
              "4              -0.800                0.900000  "
            ]
          },
          "execution_count": 147,
          "metadata": {},
          "output_type": "execute_result"
        }
      ],
      "source": [
        "merged_df.head()"
      ]
    },
    {
      "cell_type": "code",
      "execution_count": 148,
      "metadata": {
        "id": "YKTuQnUBF-MF"
      },
      "outputs": [],
      "source": [
        "def convert_size(size):\n",
        "  if 'M' in size:\n",
        "    return float(size.replace('M', ''))\n",
        "  elif 'k' in size:\n",
        "    return float(size.replace('k', '')) / 1024\n",
        "  else:\n",
        "    return np.nan\n",
        "\n",
        "apps_df['Size'] = apps_df['Size'].apply(convert_size)"
      ]
    },
    {
      "cell_type": "code",
      "execution_count": 149,
      "metadata": {
        "colab": {
          "base_uri": "https://localhost:8080/",
          "height": 206
        },
        "id": "OWJzR9i5Iwe8",
        "outputId": "3b718937-7820-48fb-e654-dbb9c367bc15"
      },
      "outputs": [
        {
          "data": {
            "text/html": [
              "<div>\n",
              "<style scoped>\n",
              "    .dataframe tbody tr th:only-of-type {\n",
              "        vertical-align: middle;\n",
              "    }\n",
              "\n",
              "    .dataframe tbody tr th {\n",
              "        vertical-align: top;\n",
              "    }\n",
              "\n",
              "    .dataframe thead th {\n",
              "        text-align: right;\n",
              "    }\n",
              "</style>\n",
              "<table border=\"1\" class=\"dataframe\">\n",
              "  <thead>\n",
              "    <tr style=\"text-align: right;\">\n",
              "      <th></th>\n",
              "      <th>App</th>\n",
              "      <th>Category</th>\n",
              "      <th>Rating</th>\n",
              "      <th>Reviews</th>\n",
              "      <th>Size</th>\n",
              "      <th>Installs</th>\n",
              "      <th>Type</th>\n",
              "      <th>Price</th>\n",
              "      <th>Content Rating</th>\n",
              "      <th>Genres</th>\n",
              "      <th>Last Updated</th>\n",
              "      <th>Current Ver</th>\n",
              "      <th>Android Ver</th>\n",
              "    </tr>\n",
              "  </thead>\n",
              "  <tbody>\n",
              "    <tr>\n",
              "      <th>0</th>\n",
              "      <td>Photo Editor &amp; Candy Camera &amp; Grid &amp; ScrapBook</td>\n",
              "      <td>ART_AND_DESIGN</td>\n",
              "      <td>4.1</td>\n",
              "      <td>159</td>\n",
              "      <td>19.0</td>\n",
              "      <td>10000</td>\n",
              "      <td>Free</td>\n",
              "      <td>0.0</td>\n",
              "      <td>Everyone</td>\n",
              "      <td>Art &amp; Design</td>\n",
              "      <td>January 7, 2018</td>\n",
              "      <td>1.0.0</td>\n",
              "      <td>4.0.3 and up</td>\n",
              "    </tr>\n",
              "    <tr>\n",
              "      <th>1</th>\n",
              "      <td>Coloring book moana</td>\n",
              "      <td>ART_AND_DESIGN</td>\n",
              "      <td>3.9</td>\n",
              "      <td>967</td>\n",
              "      <td>14.0</td>\n",
              "      <td>500000</td>\n",
              "      <td>Free</td>\n",
              "      <td>0.0</td>\n",
              "      <td>Everyone</td>\n",
              "      <td>Art &amp; Design;Pretend Play</td>\n",
              "      <td>January 15, 2018</td>\n",
              "      <td>2.0.0</td>\n",
              "      <td>4.0.3 and up</td>\n",
              "    </tr>\n",
              "    <tr>\n",
              "      <th>2</th>\n",
              "      <td>U Launcher Lite – FREE Live Cool Themes, Hide ...</td>\n",
              "      <td>ART_AND_DESIGN</td>\n",
              "      <td>4.7</td>\n",
              "      <td>87510</td>\n",
              "      <td>8.7</td>\n",
              "      <td>5000000</td>\n",
              "      <td>Free</td>\n",
              "      <td>0.0</td>\n",
              "      <td>Everyone</td>\n",
              "      <td>Art &amp; Design</td>\n",
              "      <td>August 1, 2018</td>\n",
              "      <td>1.2.4</td>\n",
              "      <td>4.0.3 and up</td>\n",
              "    </tr>\n",
              "    <tr>\n",
              "      <th>3</th>\n",
              "      <td>Sketch - Draw &amp; Paint</td>\n",
              "      <td>ART_AND_DESIGN</td>\n",
              "      <td>4.5</td>\n",
              "      <td>215644</td>\n",
              "      <td>25.0</td>\n",
              "      <td>50000000</td>\n",
              "      <td>Free</td>\n",
              "      <td>0.0</td>\n",
              "      <td>Teen</td>\n",
              "      <td>Art &amp; Design</td>\n",
              "      <td>June 8, 2018</td>\n",
              "      <td>Varies with device</td>\n",
              "      <td>4.2 and up</td>\n",
              "    </tr>\n",
              "    <tr>\n",
              "      <th>4</th>\n",
              "      <td>Pixel Draw - Number Art Coloring Book</td>\n",
              "      <td>ART_AND_DESIGN</td>\n",
              "      <td>4.3</td>\n",
              "      <td>967</td>\n",
              "      <td>2.8</td>\n",
              "      <td>100000</td>\n",
              "      <td>Free</td>\n",
              "      <td>0.0</td>\n",
              "      <td>Everyone</td>\n",
              "      <td>Art &amp; Design;Creativity</td>\n",
              "      <td>June 20, 2018</td>\n",
              "      <td>1.1</td>\n",
              "      <td>4.4 and up</td>\n",
              "    </tr>\n",
              "  </tbody>\n",
              "</table>\n",
              "</div>"
            ],
            "text/plain": [
              "                                                 App        Category  Rating  \\\n",
              "0     Photo Editor & Candy Camera & Grid & ScrapBook  ART_AND_DESIGN     4.1   \n",
              "1                                Coloring book moana  ART_AND_DESIGN     3.9   \n",
              "2  U Launcher Lite – FREE Live Cool Themes, Hide ...  ART_AND_DESIGN     4.7   \n",
              "3                              Sketch - Draw & Paint  ART_AND_DESIGN     4.5   \n",
              "4              Pixel Draw - Number Art Coloring Book  ART_AND_DESIGN     4.3   \n",
              "\n",
              "   Reviews  Size  Installs  Type  Price Content Rating  \\\n",
              "0      159  19.0     10000  Free    0.0       Everyone   \n",
              "1      967  14.0    500000  Free    0.0       Everyone   \n",
              "2    87510   8.7   5000000  Free    0.0       Everyone   \n",
              "3   215644  25.0  50000000  Free    0.0           Teen   \n",
              "4      967   2.8    100000  Free    0.0       Everyone   \n",
              "\n",
              "                      Genres      Last Updated         Current Ver  \\\n",
              "0               Art & Design   January 7, 2018               1.0.0   \n",
              "1  Art & Design;Pretend Play  January 15, 2018               2.0.0   \n",
              "2               Art & Design    August 1, 2018               1.2.4   \n",
              "3               Art & Design      June 8, 2018  Varies with device   \n",
              "4    Art & Design;Creativity     June 20, 2018                 1.1   \n",
              "\n",
              "    Android Ver  \n",
              "0  4.0.3 and up  \n",
              "1  4.0.3 and up  \n",
              "2  4.0.3 and up  \n",
              "3    4.2 and up  \n",
              "4    4.4 and up  "
            ]
          },
          "execution_count": 149,
          "metadata": {},
          "output_type": "execute_result"
        }
      ],
      "source": [
        "apps_df.head()"
      ]
    },
    {
      "cell_type": "code",
      "execution_count": 150,
      "metadata": {
        "id": "j5H2QmvoIzMA"
      },
      "outputs": [],
      "source": [
        "# LOGARITHMIC CONVERSION\n",
        "apps_df['log_installs'] = np.log(apps_df['Installs'])\n",
        "apps_df['log_reviews'] = np.log(apps_df['Reviews'])"
      ]
    },
    {
      "cell_type": "code",
      "execution_count": 151,
      "metadata": {
        "colab": {
          "base_uri": "https://localhost:8080/",
          "height": 554
        },
        "id": "A74NORmQKL6R",
        "outputId": "92fa8d1e-5f9d-44bc-e84e-37b8f39c1e80"
      },
      "outputs": [
        {
          "data": {
            "text/plain": [
              "App                object\n",
              "Category           object\n",
              "Rating            float64\n",
              "Reviews             int32\n",
              "Size              float64\n",
              "Installs            int32\n",
              "Type               object\n",
              "Price             float64\n",
              "Content Rating     object\n",
              "Genres             object\n",
              "Last Updated       object\n",
              "Current Ver        object\n",
              "Android Ver        object\n",
              "log_installs      float64\n",
              "log_reviews       float64\n",
              "dtype: object"
            ]
          },
          "execution_count": 151,
          "metadata": {},
          "output_type": "execute_result"
        }
      ],
      "source": [
        "apps_df.dtypes"
      ]
    },
    {
      "cell_type": "code",
      "execution_count": 152,
      "metadata": {
        "id": "3rd-oCO9KjcZ"
      },
      "outputs": [],
      "source": [
        "def rating_group(rating):\n",
        "  if rating >= 4:\n",
        "    return 'Top Rated App'\n",
        "  elif rating >= 3:\n",
        "    return 'Above Average'\n",
        "  elif rating >= 2:\n",
        "    return 'Average'\n",
        "  else:\n",
        "    return 'Below Average'\n",
        "\n",
        "apps_df['Rating_Group'] = apps_df['Rating'].apply(rating_group)"
      ]
    },
    {
      "cell_type": "code",
      "execution_count": 153,
      "metadata": {
        "id": "FuLFnn2GLNuq"
      },
      "outputs": [],
      "source": [
        "# Deriving a Metric : Revenue Column\n",
        "apps_df['Revenue'] = apps_df['Price'] * apps_df['Installs']"
      ]
    },
    {
      "cell_type": "code",
      "execution_count": 154,
      "metadata": {
        "id": "jfB_XCdhNS83"
      },
      "outputs": [],
      "source": [
        "sia = SentimentIntensityAnalyzer()"
      ]
    },
    {
      "cell_type": "code",
      "execution_count": 155,
      "metadata": {
        "id": "tHWdG_Z2NS5r"
      },
      "outputs": [],
      "source": [
        "# POLARITY SCORE IN SIA\n",
        "# - POSITIVE\n",
        "# - NEGATIVE\n",
        "# - COMPOUND (-1 means very negative & +1 means very positive )"
      ]
    },
    {
      "cell_type": "markdown",
      "metadata": {
        "id": "LFacAyARR0qn"
      },
      "source": [
        "ADDING THE SENTIMENTS SCORES"
      ]
    },
    {
      "cell_type": "code",
      "execution_count": 156,
      "metadata": {
        "id": "TGf003wNNSzH"
      },
      "outputs": [],
      "source": [
        "reviews_df['Sentiment_Score'] = reviews_df['Translated_Review'].apply(lambda x: sia.polarity_scores(x)['compound'])"
      ]
    },
    {
      "cell_type": "code",
      "execution_count": 157,
      "metadata": {
        "colab": {
          "base_uri": "https://localhost:8080/",
          "height": 206
        },
        "id": "HT5sj8wRNSvi",
        "outputId": "d17cf3f6-f576-4346-e3e6-21dccf294266"
      },
      "outputs": [
        {
          "data": {
            "text/html": [
              "<div>\n",
              "<style scoped>\n",
              "    .dataframe tbody tr th:only-of-type {\n",
              "        vertical-align: middle;\n",
              "    }\n",
              "\n",
              "    .dataframe tbody tr th {\n",
              "        vertical-align: top;\n",
              "    }\n",
              "\n",
              "    .dataframe thead th {\n",
              "        text-align: right;\n",
              "    }\n",
              "</style>\n",
              "<table border=\"1\" class=\"dataframe\">\n",
              "  <thead>\n",
              "    <tr style=\"text-align: right;\">\n",
              "      <th></th>\n",
              "      <th>App</th>\n",
              "      <th>Translated_Review</th>\n",
              "      <th>Sentiment</th>\n",
              "      <th>Sentiment_Polarity</th>\n",
              "      <th>Sentiment_Subjectivity</th>\n",
              "      <th>Sentiment_Score</th>\n",
              "    </tr>\n",
              "  </thead>\n",
              "  <tbody>\n",
              "    <tr>\n",
              "      <th>0</th>\n",
              "      <td>10 Best Foods for You</td>\n",
              "      <td>I like eat delicious food. That's I'm cooking ...</td>\n",
              "      <td>Positive</td>\n",
              "      <td>1.00</td>\n",
              "      <td>0.533333</td>\n",
              "      <td>0.9531</td>\n",
              "    </tr>\n",
              "    <tr>\n",
              "      <th>1</th>\n",
              "      <td>10 Best Foods for You</td>\n",
              "      <td>This help eating healthy exercise regular basis</td>\n",
              "      <td>Positive</td>\n",
              "      <td>0.25</td>\n",
              "      <td>0.288462</td>\n",
              "      <td>0.6597</td>\n",
              "    </tr>\n",
              "    <tr>\n",
              "      <th>3</th>\n",
              "      <td>10 Best Foods for You</td>\n",
              "      <td>Works great especially going grocery store</td>\n",
              "      <td>Positive</td>\n",
              "      <td>0.40</td>\n",
              "      <td>0.875000</td>\n",
              "      <td>0.6249</td>\n",
              "    </tr>\n",
              "    <tr>\n",
              "      <th>4</th>\n",
              "      <td>10 Best Foods for You</td>\n",
              "      <td>Best idea us</td>\n",
              "      <td>Positive</td>\n",
              "      <td>1.00</td>\n",
              "      <td>0.300000</td>\n",
              "      <td>0.6369</td>\n",
              "    </tr>\n",
              "    <tr>\n",
              "      <th>5</th>\n",
              "      <td>10 Best Foods for You</td>\n",
              "      <td>Best way</td>\n",
              "      <td>Positive</td>\n",
              "      <td>1.00</td>\n",
              "      <td>0.300000</td>\n",
              "      <td>0.6369</td>\n",
              "    </tr>\n",
              "  </tbody>\n",
              "</table>\n",
              "</div>"
            ],
            "text/plain": [
              "                     App                                  Translated_Review  \\\n",
              "0  10 Best Foods for You  I like eat delicious food. That's I'm cooking ...   \n",
              "1  10 Best Foods for You    This help eating healthy exercise regular basis   \n",
              "3  10 Best Foods for You         Works great especially going grocery store   \n",
              "4  10 Best Foods for You                                       Best idea us   \n",
              "5  10 Best Foods for You                                           Best way   \n",
              "\n",
              "  Sentiment  Sentiment_Polarity  Sentiment_Subjectivity  Sentiment_Score  \n",
              "0  Positive                1.00                0.533333           0.9531  \n",
              "1  Positive                0.25                0.288462           0.6597  \n",
              "3  Positive                0.40                0.875000           0.6249  \n",
              "4  Positive                1.00                0.300000           0.6369  \n",
              "5  Positive                1.00                0.300000           0.6369  "
            ]
          },
          "execution_count": 157,
          "metadata": {},
          "output_type": "execute_result"
        }
      ],
      "source": [
        "reviews_df.head()"
      ]
    },
    {
      "cell_type": "code",
      "execution_count": 158,
      "metadata": {
        "id": "SedPh-iaNSni"
      },
      "outputs": [],
      "source": [
        "apps_df['last_updated'] = pd.to_datetime(apps_df['Last Updated'],errors='coerce')"
      ]
    },
    {
      "cell_type": "markdown",
      "metadata": {
        "id": "DYRSY10RSMkx"
      },
      "source": [
        "EXTRACTING THE YEAR FROM DATE-TIME COLUMN"
      ]
    },
    {
      "cell_type": "code",
      "execution_count": 159,
      "metadata": {
        "id": "-hFP1lWiSC8j"
      },
      "outputs": [],
      "source": [
        "apps_df['Year'] = apps_df['last_updated'].dt.year"
      ]
    },
    {
      "cell_type": "code",
      "execution_count": 160,
      "metadata": {
        "colab": {
          "base_uri": "https://localhost:8080/",
          "height": 213
        },
        "id": "4_mqnwRcSZDS",
        "outputId": "1905b257-b907-4ae6-ee81-8a3e487949ee"
      },
      "outputs": [
        {
          "data": {
            "text/html": [
              "<div>\n",
              "<style scoped>\n",
              "    .dataframe tbody tr th:only-of-type {\n",
              "        vertical-align: middle;\n",
              "    }\n",
              "\n",
              "    .dataframe tbody tr th {\n",
              "        vertical-align: top;\n",
              "    }\n",
              "\n",
              "    .dataframe thead th {\n",
              "        text-align: right;\n",
              "    }\n",
              "</style>\n",
              "<table border=\"1\" class=\"dataframe\">\n",
              "  <thead>\n",
              "    <tr style=\"text-align: right;\">\n",
              "      <th></th>\n",
              "      <th>App</th>\n",
              "      <th>Category</th>\n",
              "      <th>Rating</th>\n",
              "      <th>Reviews</th>\n",
              "      <th>Size</th>\n",
              "      <th>Installs</th>\n",
              "      <th>Type</th>\n",
              "      <th>Price</th>\n",
              "      <th>Content Rating</th>\n",
              "      <th>Genres</th>\n",
              "      <th>Last Updated</th>\n",
              "      <th>Current Ver</th>\n",
              "      <th>Android Ver</th>\n",
              "      <th>log_installs</th>\n",
              "      <th>log_reviews</th>\n",
              "      <th>Rating_Group</th>\n",
              "      <th>Revenue</th>\n",
              "      <th>last_updated</th>\n",
              "      <th>Year</th>\n",
              "    </tr>\n",
              "  </thead>\n",
              "  <tbody>\n",
              "    <tr>\n",
              "      <th>0</th>\n",
              "      <td>Photo Editor &amp; Candy Camera &amp; Grid &amp; ScrapBook</td>\n",
              "      <td>ART_AND_DESIGN</td>\n",
              "      <td>4.1</td>\n",
              "      <td>159</td>\n",
              "      <td>19.0</td>\n",
              "      <td>10000</td>\n",
              "      <td>Free</td>\n",
              "      <td>0.0</td>\n",
              "      <td>Everyone</td>\n",
              "      <td>Art &amp; Design</td>\n",
              "      <td>January 7, 2018</td>\n",
              "      <td>1.0.0</td>\n",
              "      <td>4.0.3 and up</td>\n",
              "      <td>9.210340</td>\n",
              "      <td>5.068904</td>\n",
              "      <td>Top Rated App</td>\n",
              "      <td>0.0</td>\n",
              "      <td>2018-01-07</td>\n",
              "      <td>2018</td>\n",
              "    </tr>\n",
              "    <tr>\n",
              "      <th>1</th>\n",
              "      <td>Coloring book moana</td>\n",
              "      <td>ART_AND_DESIGN</td>\n",
              "      <td>3.9</td>\n",
              "      <td>967</td>\n",
              "      <td>14.0</td>\n",
              "      <td>500000</td>\n",
              "      <td>Free</td>\n",
              "      <td>0.0</td>\n",
              "      <td>Everyone</td>\n",
              "      <td>Art &amp; Design;Pretend Play</td>\n",
              "      <td>January 15, 2018</td>\n",
              "      <td>2.0.0</td>\n",
              "      <td>4.0.3 and up</td>\n",
              "      <td>13.122363</td>\n",
              "      <td>6.874198</td>\n",
              "      <td>Above Average</td>\n",
              "      <td>0.0</td>\n",
              "      <td>2018-01-15</td>\n",
              "      <td>2018</td>\n",
              "    </tr>\n",
              "    <tr>\n",
              "      <th>2</th>\n",
              "      <td>U Launcher Lite – FREE Live Cool Themes, Hide ...</td>\n",
              "      <td>ART_AND_DESIGN</td>\n",
              "      <td>4.7</td>\n",
              "      <td>87510</td>\n",
              "      <td>8.7</td>\n",
              "      <td>5000000</td>\n",
              "      <td>Free</td>\n",
              "      <td>0.0</td>\n",
              "      <td>Everyone</td>\n",
              "      <td>Art &amp; Design</td>\n",
              "      <td>August 1, 2018</td>\n",
              "      <td>1.2.4</td>\n",
              "      <td>4.0.3 and up</td>\n",
              "      <td>15.424948</td>\n",
              "      <td>11.379508</td>\n",
              "      <td>Top Rated App</td>\n",
              "      <td>0.0</td>\n",
              "      <td>2018-08-01</td>\n",
              "      <td>2018</td>\n",
              "    </tr>\n",
              "  </tbody>\n",
              "</table>\n",
              "</div>"
            ],
            "text/plain": [
              "                                                 App        Category  Rating  \\\n",
              "0     Photo Editor & Candy Camera & Grid & ScrapBook  ART_AND_DESIGN     4.1   \n",
              "1                                Coloring book moana  ART_AND_DESIGN     3.9   \n",
              "2  U Launcher Lite – FREE Live Cool Themes, Hide ...  ART_AND_DESIGN     4.7   \n",
              "\n",
              "   Reviews  Size  Installs  Type  Price Content Rating  \\\n",
              "0      159  19.0     10000  Free    0.0       Everyone   \n",
              "1      967  14.0    500000  Free    0.0       Everyone   \n",
              "2    87510   8.7   5000000  Free    0.0       Everyone   \n",
              "\n",
              "                      Genres      Last Updated Current Ver   Android Ver  \\\n",
              "0               Art & Design   January 7, 2018       1.0.0  4.0.3 and up   \n",
              "1  Art & Design;Pretend Play  January 15, 2018       2.0.0  4.0.3 and up   \n",
              "2               Art & Design    August 1, 2018       1.2.4  4.0.3 and up   \n",
              "\n",
              "   log_installs  log_reviews   Rating_Group  Revenue last_updated  Year  \n",
              "0      9.210340     5.068904  Top Rated App      0.0   2018-01-07  2018  \n",
              "1     13.122363     6.874198  Above Average      0.0   2018-01-15  2018  \n",
              "2     15.424948    11.379508  Top Rated App      0.0   2018-08-01  2018  "
            ]
          },
          "execution_count": 160,
          "metadata": {},
          "output_type": "execute_result"
        }
      ],
      "source": [
        "apps_df.head(3)"
      ]
    },
    {
      "cell_type": "code",
      "execution_count": 161,
      "metadata": {
        "id": "tH5bW8hcSbga"
      },
      "outputs": [],
      "source": [
        "html_files_path = \"./\"\n",
        "if not os.path.exists(html_files_path):\n",
        "    os.makedirs(html_files_path)"
      ]
    },
    {
      "cell_type": "code",
      "execution_count": 162,
      "metadata": {},
      "outputs": [],
      "source": [
        "plot_containers = \"\""
      ]
    },
    {
      "cell_type": "code",
      "execution_count": 163,
      "metadata": {},
      "outputs": [],
      "source": [
        "def save_plot_as_html(fig, filename, insight):\n",
        "    global plot_containers\n",
        "    filepath = os.path.join(html_files_path, filename)\n",
        "    html_content = pio.to_html(fig, full_html=False, include_plotlyjs='inline')\n",
        "    # Append the plot and its insight to plot_containers\n",
        "    plot_containers += f\"\"\"\n",
        "    <div class=\"plot-container\" id=\"{filename}\" onclick=\"openPlot('{filename}')\">\n",
        "        <div class=\"plot\">{html_content}</div>\n",
        "        <div class=\"insights\">{insight}</div>\n",
        "    </div>\n",
        "    \"\"\"\n",
        "    fig.write_html(filepath, full_html=False, include_plotlyjs='inline')"
      ]
    },
    {
      "cell_type": "code",
      "execution_count": 164,
      "metadata": {},
      "outputs": [],
      "source": [
        "# Define your plots\n",
        "plot_width = 400\n",
        "plot_height = 300\n",
        "plot_bg_color = 'black'\n",
        "text_color = 'white'\n",
        "title_font = {'size': 16}\n",
        "axis_font = {'size': 12}"
      ]
    },
    {
      "cell_type": "markdown",
      "metadata": {},
      "source": [
        "**Figure - 1 (category_analysis)**"
      ]
    },
    {
      "cell_type": "code",
      "execution_count": 165,
      "metadata": {},
      "outputs": [],
      "source": [
        "# Category Analysis Plot\n",
        "category_counts = apps_df['Category'].value_counts().nlargest(10)\n",
        "fig1 = px.bar(\n",
        "    x = category_counts.index,\n",
        "    y = category_counts.values,\n",
        "    labels = {'x': 'Category', 'y': 'Count'},\n",
        "    title = 'Top Categories on Play Store',\n",
        "    color = category_counts.index,\n",
        "    color_discrete_sequence=px.colors.sequential.Plasma,\n",
        "    width = plot_width,\n",
        "    height = plot_height\n",
        ")\n",
        "fig1.update_layout(\n",
        "    plot_bgcolor = plot_bg_color,\n",
        "    paper_bgcolor = plot_bg_color,\n",
        "    font_color = text_color,\n",
        "    title_font = title_font,\n",
        "    xaxis = dict(title_font = axis_font),\n",
        "    yaxis = dict(title_font = axis_font),\n",
        "    margin = dict(l=10, r=10, t=30, b=10)\n",
        ")\n",
        "fig1.update_traces(marker=dict(line=dict(color=text_color, width=1)))\n",
        "save_plot_as_html(fig1, \"category_analysis.html\", \"The top categories on the Google Play Store are dominated by tools, entertainment, and productivity apps. This suggests users are looking for apps that either provide utility or offer leisure activities.\")"
      ]
    },
    {
      "cell_type": "markdown",
      "metadata": {},
      "source": [
        "**Figure - 2 (type_count)**"
      ]
    },
    {
      "cell_type": "code",
      "execution_count": 166,
      "metadata": {},
      "outputs": [],
      "source": [
        "type_counts = apps_df['Type'].value_counts()\n",
        "fig2 = px.pie(\n",
        "    values = type_counts.values,\n",
        "    names = type_counts.index,\n",
        "    title = 'App Type Distribution',\n",
        "    color_discrete_sequence=px.colors.sequential.RdBu,\n",
        "    width = plot_width,\n",
        "    height = plot_height\n",
        ")\n",
        "fig2.update_layout( \n",
        "    plot_bgcolor = 'black',\n",
        "    paper_bgcolor = 'black',\n",
        "    font_color = 'white',\n",
        "    title_font = title_font,\n",
        "    margin = dict(l=10, r=10, t=30, b=10)\n",
        ")\n",
        "# fig2.update_traces(marker=dict(line=dict(color=text_color, width=1)))\n",
        "save_plot_as_html(fig2, \"type_graph_2.html\", \"Most Apps on the playstore are free, which indicates the strategy to attract users first and monetize through ads or in-app purchases\")"
      ]
    },
    {
      "cell_type": "markdown",
      "metadata": {},
      "source": [
        "\n",
        " **Figure - 3 (Rating Distribution)**"
      ]
    },
    {
      "cell_type": "code",
      "execution_count": 167,
      "metadata": {},
      "outputs": [],
      "source": [
        "type_counts = apps_df['Type'].value_counts()\n",
        "fig3 = px.histogram(\n",
        "    apps_df,\n",
        "    x = 'Rating',\n",
        "    nbins=20,\n",
        "    title = 'Rating Distribution',\n",
        "    color_discrete_sequence=['#636EFA'],\n",
        "    width = plot_width,\n",
        "    height = plot_height\n",
        ")\n",
        "fig3.update_layout( \n",
        "    plot_bgcolor = 'black',\n",
        "    paper_bgcolor = 'black',\n",
        "    font_color = 'white',\n",
        "    title_font = title_font,\n",
        "    xaxis = dict(title_font = axis_font),\n",
        "    yaxis = dict(title_font = axis_font),\n",
        "    margin = dict(l=10, r=10, t=30, b=10)\n",
        ")\n",
        "# fig3.update_traces(marker=dict(line=dict(color=text_color, width=1)))\n",
        "save_plot_as_html(fig3, \"Rating_Graph_3.html\", \"Ratings are skewed towards higher values, suggesting that most apps are rated favourably by users.\")"
      ]
    },
    {
      "cell_type": "markdown",
      "metadata": {},
      "source": [
        "**Figure - 4 (SENTIMENT COUNT)**"
      ]
    },
    {
      "cell_type": "code",
      "execution_count": 168,
      "metadata": {},
      "outputs": [],
      "source": [
        "sentiment_counts = reviews_df['Sentiment_Score'].value_counts()\n",
        "fig4 = px.bar(\n",
        "    x=sentiment_counts.index,\n",
        "    y=sentiment_counts.values,\n",
        "    labels = {'x': 'Sentiment', 'y': 'Count'},\n",
        "    title = 'Sentiment Distribution',\n",
        "    color = sentiment_counts.index,\n",
        "    color_discrete_sequence=px.colors.sequential.RdPu_r,\n",
        "    width = plot_width,\n",
        "    height = plot_height\n",
        ")\n",
        "fig4.update_layout(\n",
        "    plot_bgcolor = plot_bg_color,\n",
        "    paper_bgcolor = plot_bg_color,\n",
        "    font_color = text_color,\n",
        "    title_font = title_font,\n",
        "    xaxis = dict(title_font = axis_font),\n",
        "    yaxis = dict(title_font = axis_font),\n",
        "    margin = dict(l=10, r=10, t=30, b=10)\n",
        ")\n",
        "fig4.update_traces(marker=dict(line=dict(color=text_color, width=1)))\n",
        "save_plot_as_html(fig4, \"sentiment_count.html\", \"Sentiments in reviews shows a positive and negative feedback, with a slight lean towards positive sentiments.\")"
      ]
    },
    {
      "cell_type": "markdown",
      "metadata": {},
      "source": [
        "**Figure - 5 (Installs by Category)**"
      ]
    },
    {
      "cell_type": "code",
      "execution_count": 169,
      "metadata": {},
      "outputs": [],
      "source": [
        "installs_by_category = apps_df.groupby('Category')['Installs'].sum().nlargest(10)\n",
        "fig5 = px.bar(\n",
        "    x = installs_by_category.index,\n",
        "    y = installs_by_category.values,\n",
        "    orientation='h',\n",
        "    labels = {'x': 'Installs', 'y': 'Category'},\n",
        "    title = 'Install by Category',\n",
        "    color = installs_by_category.index,\n",
        "    color_discrete_sequence=px.colors.sequential.Greens,\n",
        "    width = plot_width,\n",
        "    height = plot_height\n",
        ")\n",
        "fig5.update_layout(\n",
        "    plot_bgcolor = plot_bg_color,\n",
        "    paper_bgcolor = plot_bg_color,\n",
        "    font_color = text_color,\n",
        "    title_font = title_font,\n",
        "    xaxis = dict(title_font = axis_font),\n",
        "    yaxis = dict(title_font = axis_font),\n",
        "    margin = dict(l=10, r=10, t=30, b=10)\n",
        ")\n",
        "fig5.update_traces(marker=dict(line=dict(color=text_color, width=1)))\n",
        "save_plot_as_html(fig5, \"Install_by_Category.html\", \"The categories with the most installs are social and communication apps, reflecting their broad appeal and daily usage.\")"
      ]
    },
    {
      "cell_type": "markdown",
      "metadata": {},
      "source": [
        "**Figure - 6 (Number of Updates over year)**"
      ]
    },
    {
      "cell_type": "code",
      "execution_count": 170,
      "metadata": {},
      "outputs": [],
      "source": [
        "\n",
        "apps_df['Last Updated'] = pd.to_datetime(apps_df['Last Updated'], errors='coerce')\n",
        "updates_per_year = apps_df['Last Updated'].dt.year.value_counts().sort_index()\n",
        "\n",
        "fig6 = px.line(\n",
        "    x=updates_per_year.index,\n",
        "    y=updates_per_year.values,\n",
        "    labels={'x': 'Year', 'y': 'Number of Updates'},\n",
        "    title='Number of Updates Over the Years',\n",
        "    color_discrete_sequence=['#AB63FA'],\n",
        "    width=plot_width,\n",
        "    height=plot_height\n",
        ")\n",
        "fig6.update_layout(\n",
        "    plot_bgcolor = plot_bg_color,\n",
        "    paper_bgcolor = plot_bg_color,\n",
        "    font_color = text_color,\n",
        "    title_font = title_font,\n",
        "    xaxis = dict(title_font=axis_font),\n",
        "    yaxis = dict(title_font=axis_font),\n",
        "    margin = dict(l=10, r=10, t=30, b=10)\n",
        ")\n",
        "\n",
        "save_plot_as_html(\n",
        "    fig6, \n",
        "    \"updates_per_year.html\", \n",
        "    \"Updates have been increasing over the years, showing that developers are actively maintaining and improving their apps.\"\n",
        ")\n"
      ]
    },
    {
      "cell_type": "markdown",
      "metadata": {},
      "source": [
        "**Figure - 7 (Revenue by Category Plot)**"
      ]
    },
    {
      "cell_type": "code",
      "execution_count": 171,
      "metadata": {},
      "outputs": [],
      "source": [
        "revenue_by_category = apps_df.groupby('Category')['Revenue'].sum().nlargest(10)\n",
        "fig7 = px.bar(\n",
        "    x=revenue_by_category.index,\n",
        "    y=revenue_by_category.values,\n",
        "    labels={'x': 'Category', 'y': 'Revenue'},\n",
        "    title='Revenue by Category',\n",
        "    color=revenue_by_category.index,\n",
        "    color_discrete_sequence=px.colors.sequential.Greens,\n",
        "    width=plot_width,\n",
        "    height=plot_height\n",
        ")\n",
        "fig7.update_layout(\n",
        "    plot_bgcolor=plot_bg_color,\n",
        "    paper_bgcolor=plot_bg_color,\n",
        "    font_color=text_color,\n",
        "    title_font=title_font,\n",
        "    xaxis=dict(title_font=axis_font),\n",
        "    yaxis=dict(title_font=axis_font),\n",
        "    margin=dict(l=10, r=10, t=30, b=10)\n",
        ")\n",
        "fig7.update_traces(marker=dict(line=dict(color=text_color, width=1)))\n",
        "save_plot_as_html(fig7, \"revenue_by_category.html\", \"Categories such as Business and Productivity lead in revenue generation, indicating their monetization potential.\")"
      ]
    },
    {
      "cell_type": "markdown",
      "metadata": {},
      "source": [
        "**Figure - 8 (Genre Count Plot)**"
      ]
    },
    {
      "cell_type": "code",
      "execution_count": 172,
      "metadata": {},
      "outputs": [],
      "source": [
        "genre_counts = apps_df['Genres'].str.split(';', expand=True).stack().value_counts().nlargest(10)\n",
        "fig8 = px.bar(\n",
        "    x=genre_counts.index,\n",
        "    y=genre_counts.values,\n",
        "    labels={'x': 'Genre', 'y': 'Count'},\n",
        "    title='Top Genres',\n",
        "    color=genre_counts.index,\n",
        "    color_discrete_sequence=px.colors.sequential.OrRd,\n",
        "    width=plot_width,\n",
        "    height=plot_height\n",
        ")\n",
        "fig8.update_layout(\n",
        "    plot_bgcolor=plot_bg_color,\n",
        "    paper_bgcolor=plot_bg_color,\n",
        "    font_color=text_color,\n",
        "    title_font=title_font,\n",
        "    xaxis=dict(title_font=axis_font),\n",
        "    yaxis=dict(title_font=axis_font),\n",
        "    margin=dict(l=10, r=10, t=30, b=10)\n",
        ")\n",
        "fig8.update_traces(marker=dict(line=dict(color=text_color, width=1)))\n",
        "save_plot_as_html(fig8, \"genres_counts.html\", \"Action and Casual genres are the most common, reflecting users' preference for engaging and easy-to-play games.\")"
      ]
    },
    {
      "cell_type": "markdown",
      "metadata": {},
      "source": [
        "**Figure - 9 (Update on Rating)**"
      ]
    },
    {
      "cell_type": "code",
      "execution_count": 173,
      "metadata": {},
      "outputs": [],
      "source": [
        "fig9 = px.scatter(\n",
        "    apps_df,\n",
        "    x='Last Updated',\n",
        "    y='Rating',\n",
        "    color='Type',\n",
        "    title='Impact of Last Update on Rating',\n",
        "    color_discrete_sequence=px.colors.qualitative.Vivid,\n",
        "    width=plot_width,\n",
        "    height=plot_height\n",
        ")\n",
        "fig9.update_layout(\n",
        "    plot_bgcolor=plot_bg_color,\n",
        "    paper_bgcolor=plot_bg_color,\n",
        "    font_color=text_color,\n",
        "    title_font=title_font,\n",
        "    xaxis=dict(title_font=axis_font),\n",
        "    yaxis=dict(title_font=axis_font),\n",
        "    margin=dict(l=10, r=10, t=30, b=10)\n",
        ")\n",
        "save_plot_as_html(fig9, \"update_on_rating.html\", \"The scatter plot shows a weak correlation between the last update date and ratings, suggesting that more frequent updates don't always result in better ratings.\")"
      ]
    },
    {
      "cell_type": "markdown",
      "metadata": {},
      "source": [
        "**Figure - 10 (Ratings of Paid vs Free Apps)**"
      ]
    },
    {
      "cell_type": "code",
      "execution_count": 174,
      "metadata": {},
      "outputs": [],
      "source": [
        "fig10 = px.box(\n",
        "    apps_df,\n",
        "    x='Type',\n",
        "    y='Rating',\n",
        "    color='Type',\n",
        "    title='Ratings for Paid vs Free Apps',\n",
        "    color_discrete_sequence=px.colors.qualitative.Pastel,\n",
        "    width=plot_width,\n",
        "    height=plot_height\n",
        ")\n",
        "fig10.update_layout(\n",
        "    plot_bgcolor=plot_bg_color,\n",
        "    paper_bgcolor=plot_bg_color,\n",
        "    font_color=text_color,\n",
        "    title_font=title_font,\n",
        "    xaxis=dict(title_font=axis_font),\n",
        "    yaxis=dict(title_font=axis_font),\n",
        "    margin=dict(l=10, r=10, t=30, b=10)\n",
        ")\n",
        "save_plot_as_html(fig10, \"ratings_paid_free.html\", \"Paid apps generally have higher ratings compared to free apps, suggesting that users expect higher quality from apps they pay for.\")"
      ]
    },
    {
      "cell_type": "code",
      "execution_count": 175,
      "metadata": {},
      "outputs": [],
      "source": [
        "# Split plot_containers to handle the last plot properly\n",
        "plot_containers_split = plot_containers.split('</div>')\n",
        "if len(plot_containers_split) > 1:\n",
        "    final_plot = plot_containers_split[-2] + '</div>'\n",
        "else:\n",
        "    final_plot = plot_containers  # Use plot_containers as default if splitting isn't sufficient"
      ]
    },
    {
      "cell_type": "markdown",
      "metadata": {},
      "source": [
        "**HTML template for the dashboard**"
      ]
    },
    {
      "cell_type": "code",
      "execution_count": 176,
      "metadata": {},
      "outputs": [],
      "source": [
        "dashboard_html = \"\"\"\n",
        "<!DOCTYPE html>\n",
        "<html lang=\"en\">\n",
        "<head>\n",
        "    <meta charset=\"UTF-8\">\n",
        "    <meta name=\"viewport\" content=\"width=device-width, initial-scale=1.0\">\n",
        "    <title>Google Play Store Reviews Analytics</title>\n",
        "    <style>\n",
        "        body {{\n",
        "            font-family: Arial, sans-serif;\n",
        "            background-color: #333;\n",
        "            color: #fff;\n",
        "            margin: 0;\n",
        "            padding: 0;\n",
        "        }}\n",
        "        .header {{\n",
        "            display: flex;\n",
        "            align-items: center;\n",
        "            justify-content: center;\n",
        "            padding: 20px;\n",
        "            background-color: #444;\n",
        "        }}\n",
        "        .header img {{\n",
        "            margin: 0 10px;\n",
        "            height: 50px;\n",
        "        }}\n",
        "        .container {{\n",
        "            display: flex;\n",
        "            flex-wrap: wrap;\n",
        "            justify-content: center;\n",
        "            padding: 20px;\n",
        "        }}\n",
        "        .plot-container {{\n",
        "            border: 2px solid #555;\n",
        "            margin: 10px;\n",
        "            padding: 10px;\n",
        "            width: {plot_width}px;\n",
        "            height: {plot_height}px;\n",
        "            overflow: hidden;\n",
        "            position: relative;\n",
        "            cursor: pointer;\n",
        "        }}\n",
        "        .insights {{\n",
        "            display: none;\n",
        "            position: absolute;\n",
        "            right: 10px;\n",
        "            top: 10px;\n",
        "            background-color: rgba(0, 0, 0, 0.7);\n",
        "            padding: 5px;\n",
        "            border-radius: 5px;\n",
        "            color: #fff;\n",
        "        }}\n",
        "        .plot-container:hover .insights {{\n",
        "            display: block;\n",
        "        }}\n",
        "    </style>\n",
        "    <script>\n",
        "        function openPlot(filename) {{\n",
        "            window.open(filename, '_blank');\n",
        "        }}\n",
        "    </script>\n",
        "</head>\n",
        "<body>\n",
        "    <div class=\"header\">\n",
        "        <img src=\"https://logos-world.net/wp-content/uploads/2020/09/Google-Logo-700x394.png\" alt=\"Google Logo\">\n",
        "        <h1>Google Play Store Reviews Analytics</h1>\n",
        "        <img src=\"https://upload.wikimedia.org/wikipedia/commons/thumb/7/78/Google_Play_Store_badge_EN.svg/1024px-Google_Play_Store_badge_EN.svg.png\" alt=\"Google Play Store Logo\">\n",
        "    </div>\n",
        "    <div class=\"container\">\n",
        "        {plots}\n",
        "    </div>\n",
        "</body>\n",
        "</html>\n",
        "\"\"\""
      ]
    },
    {
      "cell_type": "code",
      "execution_count": 177,
      "metadata": {},
      "outputs": [
        {
          "data": {
            "text/plain": [
              "True"
            ]
          },
          "execution_count": 177,
          "metadata": {},
          "output_type": "execute_result"
        }
      ],
      "source": [
        "# Use these containers to fill in your dashboard HTML\n",
        "final_html = dashboard_html.format(plots=plot_containers, plot_width=plot_width, plot_height=plot_height)\n",
        "\n",
        "# Save the final dashboard to an HTML file\n",
        "dashboard_path = os.path.join(html_files_path, \"dashboard.html\")\n",
        "with open(dashboard_path, \"w\", encoding=\"utf-8\") as f:\n",
        "    f.write(final_html)\n",
        "\n",
        "# Automatically open the generated HTML file in a web browser\n",
        "webbrowser.open('file://' + os.path.realpath(dashboard_path))"
      ]
    },
    {
      "cell_type": "markdown",
      "metadata": {},
      "source": [
        "`**Author: Ayan Jawaid**`\n",
        "\n",
        "`**Email: ayaan.jawaid786@gmail.com**`"
      ]
    }
  ],
  "metadata": {
    "colab": {
      "provenance": []
    },
    "kernelspec": {
      "display_name": "Python 3",
      "name": "python3"
    },
    "language_info": {
      "codemirror_mode": {
        "name": "ipython",
        "version": 3
      },
      "file_extension": ".py",
      "mimetype": "text/x-python",
      "name": "python",
      "nbconvert_exporter": "python",
      "pygments_lexer": "ipython3",
      "version": "3.11.7"
    }
  },
  "nbformat": 4,
  "nbformat_minor": 0
}
